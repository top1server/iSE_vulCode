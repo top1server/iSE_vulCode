{
 "cells": [
  {
   "cell_type": "markdown",
   "id": "ab62dc05-adbf-4913-afaf-0bf36af355a8",
   "metadata": {},
   "source": [
    "# Bert"
   ]
  },
  {
   "cell_type": "code",
   "execution_count": 32,
   "id": "79a48542-bcb5-47a7-a1a9-aac7716d814e",
   "metadata": {},
   "outputs": [],
   "source": [
    "import torch\n",
    "import pandas as pd\n",
    "import numpy as np"
   ]
  },
  {
   "cell_type": "code",
   "execution_count": 26,
   "id": "303ccf07-1b8e-4e00-b142-3f7ade8f7e5f",
   "metadata": {},
   "outputs": [],
   "source": [
    "def drop(data_frame: pd.DataFrame, keys):\n",
    "    for key in keys:\n",
    "        del data_frame[key]"
   ]
  },
  {
   "cell_type": "code",
   "execution_count": 30,
   "id": "38a9e36e-0213-4b43-805c-90bf4f0403be",
   "metadata": {},
   "outputs": [],
   "source": [
    "raw = pd.read_csv('data/raw/train.csv')"
   ]
  },
  {
   "cell_type": "code",
   "execution_count": 31,
   "id": "9d9bb92f-1be0-4ad7-b171-d06160b27ee0",
   "metadata": {},
   "outputs": [
    {
     "data": {
      "text/html": [
       "<div>\n",
       "<style scoped>\n",
       "    .dataframe tbody tr th:only-of-type {\n",
       "        vertical-align: middle;\n",
       "    }\n",
       "\n",
       "    .dataframe tbody tr th {\n",
       "        vertical-align: top;\n",
       "    }\n",
       "\n",
       "    .dataframe thead th {\n",
       "        text-align: right;\n",
       "    }\n",
       "</style>\n",
       "<table border=\"1\" class=\"dataframe\">\n",
       "  <thead>\n",
       "    <tr style=\"text-align: right;\">\n",
       "      <th></th>\n",
       "      <th>ID</th>\n",
       "      <th>code</th>\n",
       "      <th>Label</th>\n",
       "    </tr>\n",
       "  </thead>\n",
       "  <tbody>\n",
       "    <tr>\n",
       "      <th>0</th>\n",
       "      <td>14708</td>\n",
       "      <td>static void gen_ori(DisasContext *ctx)\\n\\n{\\n\\...</td>\n",
       "      <td>1</td>\n",
       "    </tr>\n",
       "    <tr>\n",
       "      <th>1</th>\n",
       "      <td>14706</td>\n",
       "      <td>static int get_physical_address_data(CPUState ...</td>\n",
       "      <td>1</td>\n",
       "    </tr>\n",
       "    <tr>\n",
       "      <th>2</th>\n",
       "      <td>15628</td>\n",
       "      <td>static void scsi_unmap_complete_noio(UnmapCBDa...</td>\n",
       "      <td>0</td>\n",
       "    </tr>\n",
       "    <tr>\n",
       "      <th>3</th>\n",
       "      <td>16510</td>\n",
       "      <td>static int drive_add(const char *file, const c...</td>\n",
       "      <td>1</td>\n",
       "    </tr>\n",
       "    <tr>\n",
       "      <th>4</th>\n",
       "      <td>18155</td>\n",
       "      <td>static int vsink_query_formats(AVFilterContext...</td>\n",
       "      <td>0</td>\n",
       "    </tr>\n",
       "    <tr>\n",
       "      <th>...</th>\n",
       "      <td>...</td>\n",
       "      <td>...</td>\n",
       "      <td>...</td>\n",
       "    </tr>\n",
       "    <tr>\n",
       "      <th>19995</th>\n",
       "      <td>6745</td>\n",
       "      <td>static void v9fs_xattrcreate(void *opaque)\\n\\n...</td>\n",
       "      <td>1</td>\n",
       "    </tr>\n",
       "    <tr>\n",
       "      <th>19996</th>\n",
       "      <td>19527</td>\n",
       "      <td>static int estimate_qp(MpegEncContext *s, int ...</td>\n",
       "      <td>1</td>\n",
       "    </tr>\n",
       "    <tr>\n",
       "      <th>19997</th>\n",
       "      <td>9526</td>\n",
       "      <td>static int xhci_fire_ctl_transfer(XHCIState *x...</td>\n",
       "      <td>1</td>\n",
       "    </tr>\n",
       "    <tr>\n",
       "      <th>19998</th>\n",
       "      <td>9771</td>\n",
       "      <td>void resume_all_vcpus(void)\\n\\n{\\n\\n}\\n</td>\n",
       "      <td>1</td>\n",
       "    </tr>\n",
       "    <tr>\n",
       "      <th>19999</th>\n",
       "      <td>10967</td>\n",
       "      <td>static inline int get_segment(CPUPPCState *env...</td>\n",
       "      <td>0</td>\n",
       "    </tr>\n",
       "  </tbody>\n",
       "</table>\n",
       "<p>20000 rows × 3 columns</p>\n",
       "</div>"
      ],
      "text/plain": [
       "          ID                                               code  Label\n",
       "0      14708  static void gen_ori(DisasContext *ctx)\\n\\n{\\n\\...      1\n",
       "1      14706  static int get_physical_address_data(CPUState ...      1\n",
       "2      15628  static void scsi_unmap_complete_noio(UnmapCBDa...      0\n",
       "3      16510  static int drive_add(const char *file, const c...      1\n",
       "4      18155  static int vsink_query_formats(AVFilterContext...      0\n",
       "...      ...                                                ...    ...\n",
       "19995   6745  static void v9fs_xattrcreate(void *opaque)\\n\\n...      1\n",
       "19996  19527  static int estimate_qp(MpegEncContext *s, int ...      1\n",
       "19997   9526  static int xhci_fire_ctl_transfer(XHCIState *x...      1\n",
       "19998   9771            void resume_all_vcpus(void)\\n\\n{\\n\\n}\\n      1\n",
       "19999  10967  static inline int get_segment(CPUPPCState *env...      0\n",
       "\n",
       "[20000 rows x 3 columns]"
      ]
     },
     "execution_count": 31,
     "metadata": {},
     "output_type": "execute_result"
    }
   ],
   "source": [
    "raw = raw.sample(frac=1, random_state=32)\n",
    "input = raw.reset_index(drop=True)\n",
    "input"
   ]
  },
  {
   "cell_type": "code",
   "execution_count": 29,
   "id": "e691c417-4e35-4521-82e3-61a56b92a17b",
   "metadata": {},
   "outputs": [],
   "source": [
    "import torch\n",
    "import torch.nn as nn\n",
    "import torch.utils.data as Data\n",
    "from transformers import RobertaTokenizer, RobertaModel\n",
    "torch.manual_seed(2020)\n",
    "\n",
    "class CodeBertClassifier(nn.Module):\n",
    "    def __init__(self, num_classes=2):\n",
    "        super(CodeBertClassifier, self).__init__()\n",
    "        self.device = torch.device(\"cuda\" if torch.cuda.is_available() else \"cpu\")\n",
    "        self.bert = RobertaModel.from_pretrained('microsoft/codebert-base').to(self.device)\n",
    "        self.tokenizer = RobertaTokenizer.from_pretrained('microsoft/codebert-base')\n",
    "        self.dropout = nn.Dropout(0.1)\n",
    "        self.fc = nn.Linear(self.bert.config.hidden_size, num_classes).to(self.device)\n",
    "\n",
    "    def forward(self, input_ids, attention_mask):\n",
    "        input_ids = input_ids.to(self.device)\n",
    "        attention_mask = attention_mask.to(self.device)\n",
    "        outputs = self.bert(input_ids, attention_mask)\n",
    "        pooled_output = outputs.pooler_output\n",
    "        x = self.dropout(pooled_output.to(self.device))\n",
    "        logits = self.fc(x)\n",
    "        return logits\n",
    "\n",
    "    def save(self, path):\n",
    "        print(path)\n",
    "        torch.save(self.state_dict(), path)\n",
    "        print(f\"Model saved to {path}\")\n",
    "\n",
    "    def load(self, path):\n",
    "        self.load_state_dict(torch.load(path))  "
   ]
  },
  {
   "cell_type": "code",
   "execution_count": null,
   "id": "64c36e3e-6d84-48a5-a0f7-4bf45df5ddfb",
   "metadata": {},
   "outputs": [],
   "source": [
    "total = 20000\n",
    "data = input[\"code\"].tolist()[:total]\n",
    "train_size = 16000\n",
    "validate_size = 2000\n",
    "test_size = 2000\n",
    "\n",
    "train_indices = range(train_size)\n",
    "validate_indices = range(train_size, train_size + validate_size)\n",
    "test_indices = range(train_size + validate_size, train_size + validate_size + test_size)\n",
    "\n",
    "y_train = torch.tensor(input.iloc[train_indices, 2].values).to(torch.int64)\n",
    "y_validate = torch.tensor(input.iloc[validate_indices, 2].values).to(torch.int64)\n",
    "y_test = torch.tensor(input.iloc[test_indices, 2].values).to(torch.int64)\n"
   ]
  },
  {
   "cell_type": "code",
   "execution_count": 34,
   "id": "49cedab4-4bd4-41f3-9e4f-bcc81a304fc1",
   "metadata": {},
   "outputs": [],
   "source": [
    "nb_class = 2\n",
    "def encode_input(text, tokenizer):\n",
    "    max_length = 256\n",
    "    input = tokenizer(text, max_length=max_length, truncation=True, padding='max_length', return_tensors='pt')\n",
    "\n",
    "    return input['input_ids'], input['attention_mask']\n",
    "\n",
    "device = \"cuda\" if torch.cuda.is_available() else \"cpu\"\n",
    "tokenizer = RobertaTokenizer.from_pretrained('microsoft/codebert-base')\n",
    "input_ids_, attention_mask_ = encode_input(data, tokenizer)"
   ]
  },
  {
   "cell_type": "code",
   "execution_count": 39,
   "id": "c36d3ff2-c33d-4439-8466-c95cccc96f46",
   "metadata": {},
   "outputs": [],
   "source": [
    "import torch\n",
    "from torch.utils import data as Data\n",
    "\n",
    "def to_device(data_dict, device):\n",
    "    for key in data_dict:\n",
    "        data_dict[key] = data_dict[key].to(device)\n",
    "    return data_dict\n",
    "\n",
    "data_splits = {\n",
    "    'train': (0, train_size),\n",
    "    'val': (train_size, train_size + validate_size),\n",
    "    'test': (-test_size, None)\n",
    "}\n",
    "\n",
    "input_ids = {}\n",
    "attention_mask = {}\n",
    "label = {}\n",
    "\n",
    "for split, (start, end) in data_splits.items():\n",
    "    input_ids[split] = input_ids_[start:end]\n",
    "    attention_mask[split] = attention_mask_[start:end]\n",
    "    label[split] = {'train': y_train, 'val': y_validate, 'test': y_test}[split]\n",
    "    \n",
    "input_ids = to_device(input_ids, device)\n",
    "attention_mask = to_device(attention_mask, device)\n",
    "label = to_device(label, device)\n",
    "\n",
    "batch_size = 32\n",
    "datasets = {}\n",
    "loader = {}\n",
    "\n",
    "for split in ['train', 'val', 'test']:\n",
    "    datasets[split] = Data.TensorDataset(input_ids[split], attention_mask[split], label[split])\n",
    "    loader[split] = Data.DataLoader(datasets[split], batch_size=batch_size, shuffle=True)\n"
   ]
  },
  {
   "cell_type": "code",
   "execution_count": 43,
   "id": "714076a0-b01d-4c0a-bcaf-c2972030b75d",
   "metadata": {},
   "outputs": [],
   "source": [
    "import torch\n",
    "import torch.nn.functional as F\n",
    "from sklearn.metrics import accuracy_score, precision_score, recall_score, f1_score, confusion_matrix\n",
    "import matplotlib.pyplot as plt\n",
    "import seaborn as sns\n",
    "\n",
    "def train(model, device, train_loader, optimizer, epoch):\n",
    "    model.train()\n",
    "    for batch_idx, (x1, x2, y) in enumerate(train_loader):\n",
    "        x1, x2, y = x1.to(device), x2.to(device), y.to(device)\n",
    "        y_pred = model(x1, x2)\n",
    "        model.zero_grad()\n",
    "        \n",
    "        loss = F.cross_entropy(y_pred, y.squeeze())\n",
    "        loss.backward()\n",
    "        optimizer.step()\n",
    "\n",
    "        if (batch_idx + 1) % 100 == 0:\n",
    "            print(f'Train Epoch: {epoch} [{(batch_idx + 1) * len(x1)}/{len(train_loader.dataset)} '\n",
    "                  f'({100. * batch_idx / len(train_loader):.2f}%)]\\tLoss: {loss.item():.6f}')\n",
    "\n",
    "def test(model, device, test_loader):\n",
    "    model.eval()\n",
    "    test_loss = 0.0\n",
    "    y_true = []\n",
    "    y_pred = []\n",
    "    \n",
    "    with torch.no_grad():\n",
    "        for x1, x2, y in test_loader:\n",
    "            x1, x2, y = x1.to(device), x2.to(device), y.to(device)\n",
    "            y_ = model(x1, x2)\n",
    "            \n",
    "            test_loss += F.cross_entropy(y_, y.squeeze()).item()\n",
    "            \n",
    "            pred = y_.max(dim=-1)[1]\n",
    "            y_true.extend(y.cpu().numpy())\n",
    "            y_pred.extend(pred.cpu().numpy())\n",
    "\n",
    "    test_loss /= len(test_loader)\n",
    "    \n",
    "    accuracy = accuracy_score(y_true, y_pred)\n",
    "    precision = precision_score(y_true, y_pred)\n",
    "    recall = recall_score(y_true, y_pred)\n",
    "    f1 = f1_score(y_true, y_pred)\n",
    "    cm = confusion_matrix(y_true, y_pred)\n",
    "    plt.figure(figsize=(8, 6))\n",
    "    sns.heatmap(cm, annot=True, fmt=\"d\", cmap=\"Blues\", xticklabels=[0, 1], yticklabels=[0, 1])\n",
    "    plt.xlabel('Predicted')\n",
    "    plt.ylabel('True')\n",
    "    plt.title('Confusion Matrix')\n",
    "    plt.show()\n",
    "    \n",
    "    print(f'Test set: Average loss: {test_loss:.4f}, Accuracy: {accuracy*100:.2f}%, Precision: {precision*100:.2f}%, '\n",
    "          f'Recall: {recall*100:.2f}%, F1: {f1*100:.2f}%')\n",
    "    \n",
    "    return accuracy, precision, recall, f1\n"
   ]
  },
  {
   "cell_type": "code",
   "execution_count": 37,
   "id": "57047ac9-1959-4c23-92a1-7dd3cb371276",
   "metadata": {},
   "outputs": [],
   "source": [
    "model = CodeBertClassifier().to(device)\n",
    "optimizer = torch.optim.AdamW(model.parameters(), lr=2e-5, weight_decay=1e-4)"
   ]
  },
  {
   "cell_type": "code",
   "execution_count": 44,
   "id": "619af543-1267-4359-8bef-9d2c4d9c0375",
   "metadata": {
    "tags": []
   },
   "outputs": [
    {
     "name": "stdout",
     "output_type": "stream",
     "text": [
      "Train Epoch: 1 [3200/16000 (19.80%)]\tLoss: 0.596430\n",
      "Train Epoch: 1 [6400/16000 (39.80%)]\tLoss: 0.643996\n",
      "Train Epoch: 1 [9600/16000 (59.80%)]\tLoss: 0.552560\n",
      "Train Epoch: 1 [12800/16000 (79.80%)]\tLoss: 0.619023\n",
      "Train Epoch: 1 [16000/16000 (99.80%)]\tLoss: 0.536921\n"
     ]
    },
    {
     "data": {
      "image/png": "[encoded data removed]",
      "text/plain": [
       "<Figure size 800x600 with 2 Axes>"
      ]
     },
     "metadata": {},
     "output_type": "display_data"
    },
    {
     "name": "stdout",
     "output_type": "stream",
     "text": [
      "Test set: Average loss: 0.6050, Accuracy: 62.90%, Precision: 57.59%, Recall: 64.17%, F1: 60.70%\n",
      "Accuracy is: 0.6290, best accuracy is 0.6290n\n",
      "Train Epoch: 2 [3200/16000 (19.80%)]\tLoss: 0.672880\n",
      "Train Epoch: 2 [6400/16000 (39.80%)]\tLoss: 0.299208\n",
      "Train Epoch: 2 [9600/16000 (59.80%)]\tLoss: 0.478536\n",
      "Train Epoch: 2 [12800/16000 (79.80%)]\tLoss: 0.844932\n",
      "Train Epoch: 2 [16000/16000 (99.80%)]\tLoss: 0.658955\n"
     ]
    },
    {
     "data": {
      "image/png": "[encoded data removed]",
      "text/plain": [
       "<Figure size 800x600 with 2 Axes>"
      ]
     },
     "metadata": {},
     "output_type": "display_data"
    },
    {
     "name": "stdout",
     "output_type": "stream",
     "text": [
      "Test set: Average loss: 0.6132, Accuracy: 62.55%, Precision: 59.23%, Recall: 51.74%, F1: 55.23%\n",
      "Accuracy is: 0.6255, best accuracy is 0.6290n\n",
      "Train Epoch: 3 [3200/16000 (19.80%)]\tLoss: 0.422958\n",
      "Train Epoch: 3 [6400/16000 (39.80%)]\tLoss: 0.546822\n",
      "Train Epoch: 3 [9600/16000 (59.80%)]\tLoss: 0.449572\n",
      "Train Epoch: 3 [12800/16000 (79.80%)]\tLoss: 0.595746\n",
      "Train Epoch: 3 [16000/16000 (99.80%)]\tLoss: 0.456690\n"
     ]
    },
    {
     "data": {
      "image/png": "[encoded data removed]",
      "text/plain": [
       "<Figure size 800x600 with 2 Axes>"
      ]
     },
     "metadata": {},
     "output_type": "display_data"
    },
    {
     "name": "stdout",
     "output_type": "stream",
     "text": [
      "Test set: Average loss: 0.6821, Accuracy: 61.95%, Precision: 57.30%, Recall: 58.01%, F1: 57.65%\n",
      "Accuracy is: 0.6195, best accuracy is 0.6290n\n",
      "Train Epoch: 4 [3200/16000 (19.80%)]\tLoss: 0.297489\n",
      "Train Epoch: 4 [6400/16000 (39.80%)]\tLoss: 0.438496\n",
      "Train Epoch: 4 [9600/16000 (59.80%)]\tLoss: 0.428237\n",
      "Train Epoch: 4 [12800/16000 (79.80%)]\tLoss: 0.375953\n",
      "Train Epoch: 4 [16000/16000 (99.80%)]\tLoss: 0.424937\n"
     ]
    },
    {
     "data": {
      "image/png": "[encoded data removed]",
      "text/plain": [
       "<Figure size 800x600 with 2 Axes>"
      ]
     },
     "metadata": {},
     "output_type": "display_data"
    },
    {
     "name": "stdout",
     "output_type": "stream",
     "text": [
      "Test set: Average loss: 0.7793, Accuracy: 61.10%, Precision: 56.06%, Recall: 59.57%, F1: 57.76%\n",
      "Accuracy is: 0.6110, best accuracy is 0.6290n\n",
      "Train Epoch: 5 [3200/16000 (19.80%)]\tLoss: 0.357804\n",
      "Train Epoch: 5 [6400/16000 (39.80%)]\tLoss: 0.289316\n",
      "Train Epoch: 5 [9600/16000 (59.80%)]\tLoss: 0.444818\n",
      "Train Epoch: 5 [12800/16000 (79.80%)]\tLoss: 0.480676\n",
      "Train Epoch: 5 [16000/16000 (99.80%)]\tLoss: 0.279129\n"
     ]
    },
    {
     "data": {
      "image/png": "[encoded data removed]",
      "text/plain": [
       "<Figure size 800x600 with 2 Axes>"
      ]
     },
     "metadata": {},
     "output_type": "display_data"
    },
    {
     "name": "stdout",
     "output_type": "stream",
     "text": [
      "Test set: Average loss: 0.9746, Accuracy: 62.15%, Precision: 59.44%, Recall: 47.93%, F1: 53.07%\n",
      "Accuracy is: 0.6215, best accuracy is 0.6290n\n"
     ]
    }
   ],
   "source": [
    "best_acc = 0.0\n",
    "num_epochs = 5\n",
    "PATH = 'model.pth'\n",
    "for epoch in range(1, num_epochs + 1):\n",
    "    train(model, device, loader[\"train\"], optimizer, epoch)\n",
    "    acc, precision, recall, f1 = test(model, device, loader[\"val\"])\n",
    "    if best_acc < acc:\n",
    "        best_acc = acc\n",
    "        torch.save(model.state_dict(), PATH)\n",
    "    print(\"Accuracy is: {:.4f}, best accuracy is {:.4f}n\".format(acc, best_acc))"
   ]
  },
  {
   "cell_type": "code",
   "execution_count": 47,
   "id": "96dcface-272c-47ef-88f5-d4a507f91879",
   "metadata": {
    "tags": []
   },
   "outputs": [
    {
     "data": {
      "image/png": "[encoded data removed]",
      "text/plain": [
       "<Figure size 800x600 with 2 Axes>"
      ]
     },
     "metadata": {},
     "output_type": "display_data"
    },
    {
     "name": "stdout",
     "output_type": "stream",
     "text": [
      "Test set: Average loss: 0.6062, Accuracy: 62.30%, Precision: 57.58%, Recall: 65.79%, F1: 61.41%\n"
     ]
    }
   ],
   "source": [
    "model_test = CodeBertClassifier().to(\"cuda\")\n",
    "model_test.load_state_dict(torch.load(\"model.pth\", weights_only=True))\n",
    "accuracy, precision, recall, f1 = test(model_test, device, loader['test'])"
   ]
  },
  {
   "cell_type": "code",
   "execution_count": 48,
   "id": "f81f24da",
   "metadata": {},
   "outputs": [
    {
     "name": "stdout",
     "output_type": "stream",
     "text": [
      "model.pth\n",
      "Model saved to model.pth\n"
     ]
    }
   ],
   "source": [
    "model.save('model.pth')"
   ]
  },
  {
   "cell_type": "code",
   "execution_count": null,
   "id": "5d266b3a",
   "metadata": {},
   "outputs": [
    {
     "name": "stderr",
     "output_type": "stream",
     "text": [
      "C:\\Users\\dmt07\\AppData\\Local\\Temp\\ipykernel_10308\\3423294752.py:31: FutureWarning: You are using `torch.load` with `weights_only=False` (the current default value), which uses the default pickle module implicitly. It is possible to construct malicious pickle data which will execute arbitrary code during unpickling (See https://github.com/pytorch/pytorch/blob/main/SECURITY.md#untrusted-models for more details). In a future release, the default value for `weights_only` will be flipped to `True`. This limits the functions that could be executed during unpickling. Arbitrary objects will no longer be allowed to be loaded via this mode unless they are explicitly allowlisted by the user via `torch.serialization.add_safe_globals`. We recommend you start setting `weights_only=True` for any use case where you don't have full control of the loaded file. Please open an issue on GitHub for any issues related to this experimental feature.\n",
      "  self.load_state_dict(torch.load(path))\n"
     ]
    },
    {
     "data": {
      "text/plain": [
       "CodeBertClassifier(\n",
       "  (bert): RobertaModel(\n",
       "    (embeddings): RobertaEmbeddings(\n",
       "      (word_embeddings): Embedding(50265, 768, padding_idx=1)\n",
       "      (position_embeddings): Embedding(514, 768, padding_idx=1)\n",
       "      (token_type_embeddings): Embedding(1, 768)\n",
       "      (LayerNorm): LayerNorm((768,), eps=1e-05, elementwise_affine=True)\n",
       "      (dropout): Dropout(p=0.1, inplace=False)\n",
       "    )\n",
       "    (encoder): RobertaEncoder(\n",
       "      (layer): ModuleList(\n",
       "        (0-11): 12 x RobertaLayer(\n",
       "          (attention): RobertaAttention(\n",
       "            (self): RobertaSdpaSelfAttention(\n",
       "              (query): Linear(in_features=768, out_features=768, bias=True)\n",
       "              (key): Linear(in_features=768, out_features=768, bias=True)\n",
       "              (value): Linear(in_features=768, out_features=768, bias=True)\n",
       "              (dropout): Dropout(p=0.1, inplace=False)\n",
       "            )\n",
       "            (output): RobertaSelfOutput(\n",
       "              (dense): Linear(in_features=768, out_features=768, bias=True)\n",
       "              (LayerNorm): LayerNorm((768,), eps=1e-05, elementwise_affine=True)\n",
       "              (dropout): Dropout(p=0.1, inplace=False)\n",
       "            )\n",
       "          )\n",
       "          (intermediate): RobertaIntermediate(\n",
       "            (dense): Linear(in_features=768, out_features=3072, bias=True)\n",
       "            (intermediate_act_fn): GELUActivation()\n",
       "          )\n",
       "          (output): RobertaOutput(\n",
       "            (dense): Linear(in_features=3072, out_features=768, bias=True)\n",
       "            (LayerNorm): LayerNorm((768,), eps=1e-05, elementwise_affine=True)\n",
       "            (dropout): Dropout(p=0.1, inplace=False)\n",
       "          )\n",
       "        )\n",
       "      )\n",
       "    )\n",
       "    (pooler): RobertaPooler(\n",
       "      (dense): Linear(in_features=768, out_features=768, bias=True)\n",
       "      (activation): Tanh()\n",
       "    )\n",
       "  )\n",
       "  (dropout): Dropout(p=0.1, inplace=False)\n",
       "  (fc): Linear(in_features=768, out_features=2, bias=True)\n",
       ")"
      ]
     },
     "execution_count": 49,
     "metadata": {},
     "output_type": "execute_result"
    }
   ],
   "source": [
    "model = CodeBertClassifier().to(\"cuda\")\n",
    "model.load(\"model.pth\", weights_only=True)\n",
    "model.eval()"
   ]
  },
  {
   "cell_type": "code",
   "execution_count": null,
   "id": "d21857e4",
   "metadata": {},
   "outputs": [
    {
     "data": {
      "text/html": [
       "<div>\n",
       "<style scoped>\n",
       "    .dataframe tbody tr th:only-of-type {\n",
       "        vertical-align: middle;\n",
       "    }\n",
       "\n",
       "    .dataframe tbody tr th {\n",
       "        vertical-align: top;\n",
       "    }\n",
       "\n",
       "    .dataframe thead th {\n",
       "        text-align: right;\n",
       "    }\n",
       "</style>\n",
       "<table border=\"1\" class=\"dataframe\">\n",
       "  <thead>\n",
       "    <tr style=\"text-align: right;\">\n",
       "      <th></th>\n",
       "      <th>func</th>\n",
       "    </tr>\n",
       "  </thead>\n",
       "  <tbody>\n",
       "    <tr>\n",
       "      <th>0</th>\n",
       "      <td>static void avc_luma_vt_and_aver_dst_8x8_msa(c...</td>\n",
       "    </tr>\n",
       "    <tr>\n",
       "      <th>1</th>\n",
       "      <td>static void pc_init1(MachineState *machine,\\n\\...</td>\n",
       "    </tr>\n",
       "    <tr>\n",
       "      <th>2</th>\n",
       "      <td>void ioinst_handle_rchp(S390CPU *cpu, uint64_t...</td>\n",
       "    </tr>\n",
       "    <tr>\n",
       "      <th>3</th>\n",
       "      <td>static void mpegts_write_pmt(AVFormatContext *...</td>\n",
       "    </tr>\n",
       "    <tr>\n",
       "      <th>4</th>\n",
       "      <td>static int do_setcontext(struct target_ucontex...</td>\n",
       "    </tr>\n",
       "    <tr>\n",
       "      <th>...</th>\n",
       "      <td>...</td>\n",
       "    </tr>\n",
       "    <tr>\n",
       "      <th>6995</th>\n",
       "      <td>static CURLState *curl_init_state(BDRVCURLStat...</td>\n",
       "    </tr>\n",
       "    <tr>\n",
       "      <th>6996</th>\n",
       "      <td>int qsv_transcode_init(OutputStream *ost)\\n\\n{...</td>\n",
       "    </tr>\n",
       "    <tr>\n",
       "      <th>6997</th>\n",
       "      <td>static void i6300esb_pc_init(PCIBus *pci_bus)\\...</td>\n",
       "    </tr>\n",
       "    <tr>\n",
       "      <th>6998</th>\n",
       "      <td>static void idr(H264Context *h){\\n\\n    int i;...</td>\n",
       "    </tr>\n",
       "    <tr>\n",
       "      <th>6999</th>\n",
       "      <td>static void boston_lcd_event(void *opaque, int...</td>\n",
       "    </tr>\n",
       "  </tbody>\n",
       "</table>\n",
       "<p>7000 rows × 1 columns</p>\n",
       "</div>"
      ],
      "text/plain": [
       "                                                   func\n",
       "0     static void avc_luma_vt_and_aver_dst_8x8_msa(c...\n",
       "1     static void pc_init1(MachineState *machine,\\n\\...\n",
       "2     void ioinst_handle_rchp(S390CPU *cpu, uint64_t...\n",
       "3     static void mpegts_write_pmt(AVFormatContext *...\n",
       "4     static int do_setcontext(struct target_ucontex...\n",
       "...                                                 ...\n",
       "6995  static CURLState *curl_init_state(BDRVCURLStat...\n",
       "6996  int qsv_transcode_init(OutputStream *ost)\\n\\n{...\n",
       "6997  static void i6300esb_pc_init(PCIBus *pci_bus)\\...\n",
       "6998  static void idr(H264Context *h){\\n\\n    int i;...\n",
       "6999  static void boston_lcd_event(void *opaque, int...\n",
       "\n",
       "[7000 rows x 1 columns]"
      ]
     },
     "execution_count": 7,
     "metadata": {},
     "output_type": "execute_result"
    }
   ],
   "source": [
    "test = pd.read_csv('data/raw/test.csv')\n",
    "input_dataset = test"
   ]
  },
  {
   "cell_type": "code",
   "execution_count": null,
   "id": "fbc42e71",
   "metadata": {},
   "outputs": [],
   "source": [
    "total = 7000\n",
    "data = input_dataset[\"code\"].tolist()[:total]"
   ]
  },
  {
   "cell_type": "code",
   "execution_count": 13,
   "id": "9ece3ebc",
   "metadata": {},
   "outputs": [],
   "source": [
    "preds = []\n",
    "for i in range(len(data)):\n",
    "    input_ids_, attention_mask_ = encode_input(data[i], tokenizer)\n",
    "    logits = model(input_ids_, attention_mask_)\n",
    "    pred = logits.argmax(dim=-1).cpu().numpy()\n",
    "    preds.append(pred)"
   ]
  },
  {
   "cell_type": "code",
   "execution_count": null,
   "id": "514f3170",
   "metadata": {},
   "outputs": [],
   "source": [
    "ids = list(range(7000))\n",
    "submission_df = pd.DataFrame({\n",
    "    'ID': ids,\n",
    "    'pred': preds\n",
    "})\n",
    "submission_df.to_csv('submit.csv', index=False)"
   ]
  }
 ],
 "metadata": {
  "kernelspec": {
   "display_name": "Python 3",
   "language": "python",
   "name": "python3"
  },
  "language_info": {
   "codemirror_mode": {
    "name": "ipython",
    "version": 3
   },
   "file_extension": ".py",
   "mimetype": "text/x-python",
   "name": "python",
   "nbconvert_exporter": "python",
   "pygments_lexer": "ipython3",
   "version": "3.12.5"
  }
 },
 "nbformat": 4,
 "nbformat_minor": 5
}
