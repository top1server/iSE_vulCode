{
 "cells": [
  {
   "cell_type": "code",
   "execution_count": 67,
   "metadata": {},
   "outputs": [],
   "source": [
    "import os\n",
    "import re\n",
    "import shutil\n",
    "import numpy as np\n",
    "import pandas as pd"
   ]
  },
  {
   "cell_type": "code",
   "execution_count": 56,
   "metadata": {},
   "outputs": [],
   "source": [
    "train_data = pd.read_csv(\"D:\\\\cpgGGCN\\\\data\\\\raw\\\\train.csv\")"
   ]
  },
  {
   "cell_type": "code",
   "execution_count": 57,
   "metadata": {},
   "outputs": [],
   "source": [
    "def clean_code(code):\n",
    "    code = re.sub(r'/\\*.*?\\*/', '', code, flags=re.DOTALL)\n",
    "    code = re.sub(r'//.*', '', code)\n",
    "    code = re.sub(r'\\n\\s*\\n', '\\n', code).strip()\n",
    "    return code"
   ]
  },
  {
   "cell_type": "code",
   "execution_count": 63,
   "metadata": {},
   "outputs": [],
   "source": [
    "def to_files(code, index, out_path):\n",
    "    if not os.path.exists(out_path):\n",
    "        os.makedirs(out_path)\n",
    "\n",
    "    file_name = f\"{index}.c\"\n",
    "    with open(out_path + file_name, 'w') as f:\n",
    "        f.write(code)"
   ]
  },
  {
   "cell_type": "code",
   "execution_count": null,
   "metadata": {},
   "outputs": [],
   "source": [
    "import subprocess\n",
    "def joern_parse(input_path, output_path, file_name):\n",
    "    out_file = file_name + \".bin\"\n",
    "    joern_parse_call = subprocess.run([\"joern-parse.bat\", input_path, \"--output\", output_path + out_file],\n",
    "                                      stdout=subprocess.PIPE, text=True, check=True)\n",
    "    print(str(joern_parse_call))\n",
    "    return out_file\n",
    "\n"
   ]
  },
  {
   "cell_type": "code",
   "execution_count": 88,
   "metadata": {},
   "outputs": [],
   "source": [
    "# code to CPG.bin\n",
    "train_codes = []\n",
    "train_labels = []\n",
    "\n",
    "SLICE_SIZE = 500\n",
    "PATH_CODE = \"data/code/\"\n",
    "PATH_CPG = \"data/cpg/\"\n",
    "\n",
    "for i in range(len(train_data)):\n",
    "    code = train_data.loc[i, 'code']\n",
    "    code = clean_code(code)\n",
    "    train_codes.append(code)\n",
    "    label = train_data.loc[i, 'Label']\n",
    "    train_labels.append(label)\n",
    "\n",
    "train_grouped_codes = [train_codes[i:i + SLICE_SIZE] for i in range(0, len(train_codes), SLICE_SIZE)]\n",
    "train_grouped_labels = [train_labels[i:i + SLICE_SIZE] for i in range(0, len(train_labels), SLICE_SIZE)]\n",
    "\n",
    "cpg_files = []\n",
    "for i in range(int(len(train_codes) / SLICE_SIZE)):\n",
    "    if os.path.exists(PATH_CODE) and os.path.isdir(PATH_CODE):\n",
    "        cpg_file = joern_parse(PATH_CODE, PATH_CPG, f\"{i}_cpg\")\n",
    "        cpg_files.append(cpg_file)\n",
    "        print(f\"Dataset {i} to cpg.\")\n",
    "        shutil.rmtree(PATH_CODE)\n",
    "\n",
    "    for j in range(SLICE_SIZE):\n",
    "        to_files(train_grouped_codes[i][j], i * 500 + j, PATH_CODE)\n",
    "\n",
    "    shutil.rmtree(PATH_CODE)"
   ]
  },
  {
   "cell_type": "code",
   "execution_count": null,
   "metadata": {},
   "outputs": [],
   "source": [
    "def joern_export(cpg_file_path, output_path, output_format=\"dot\"):\n",
    "    output_file = output_path + \"dot\"\n",
    "    joern_export_call = subprocess.run(\n",
    "        [\"joern-export.bat\", cpg_file_path, \"-o\", output_file, \"--format\", output_format],\n",
    "        stdout=subprocess.PIPE, stderr=subprocess.PIPE, text=True, check=True\n",
    "    )\n",
    "    print(f\"File xuất ra thành công: {output_file}\")\n",
    "    return output_file"
   ]
  }
 ],
 "metadata": {
  "kernelspec": {
   "display_name": "Python 3",
   "language": "python",
   "name": "python3"
  },
  "language_info": {
   "codemirror_mode": {
    "name": "ipython",
    "version": 3
   },
   "file_extension": ".py",
   "mimetype": "text/x-python",
   "name": "python",
   "nbconvert_exporter": "python",
   "pygments_lexer": "ipython3",
   "version": "3.12.5"
  }
 },
 "nbformat": 4,
 "nbformat_minor": 2
}
